{
 "cells": [
  {
   "cell_type": "code",
   "execution_count": 1,
   "id": "5f93f1de",
   "metadata": {},
   "outputs": [],
   "source": [
    "import numpy as np\n",
    "import pandas as pd\n",
    "import matplotlib.pyplot as plt\n",
    "import seaborn as sns\n",
    "\n",
    "import warnings\n",
    "warnings.filterwarnings('ignore')"
   ]
  },
  {
   "cell_type": "code",
   "execution_count": 2,
   "id": "fd0262e2",
   "metadata": {},
   "outputs": [],
   "source": [
    "df = pd.read_csv(r'E:\\Data Science Projects\\Datasets\\Updated_datasets\\naukri_data.csv')"
   ]
  },
  {
   "cell_type": "code",
   "execution_count": 3,
   "id": "f9de2310",
   "metadata": {},
   "outputs": [
    {
     "data": {
      "text/html": [
       "<div>\n",
       "<style scoped>\n",
       "    .dataframe tbody tr th:only-of-type {\n",
       "        vertical-align: middle;\n",
       "    }\n",
       "\n",
       "    .dataframe tbody tr th {\n",
       "        vertical-align: top;\n",
       "    }\n",
       "\n",
       "    .dataframe thead th {\n",
       "        text-align: right;\n",
       "    }\n",
       "</style>\n",
       "<table border=\"1\" class=\"dataframe\">\n",
       "  <thead>\n",
       "    <tr style=\"text-align: right;\">\n",
       "      <th></th>\n",
       "      <th>company</th>\n",
       "      <th>education</th>\n",
       "      <th>industry</th>\n",
       "      <th>jobdescription</th>\n",
       "      <th>jobid</th>\n",
       "      <th>joblocation_address</th>\n",
       "      <th>jobtitle</th>\n",
       "      <th>numberofpositions</th>\n",
       "      <th>site_name</th>\n",
       "      <th>skills</th>\n",
       "      <th>min_pay</th>\n",
       "      <th>max_pay</th>\n",
       "      <th>min_exp</th>\n",
       "      <th>max_exp</th>\n",
       "      <th>avg_expereince</th>\n",
       "      <th>avg_payrate</th>\n",
       "      <th>day</th>\n",
       "      <th>month</th>\n",
       "      <th>year</th>\n",
       "    </tr>\n",
       "  </thead>\n",
       "  <tbody>\n",
       "    <tr>\n",
       "      <th>0</th>\n",
       "      <td>MM Media Pvt Ltd</td>\n",
       "      <td>UG: B.Tech/B.E. - Any Specialization PG:Any Po...</td>\n",
       "      <td>Media / Entertainment / Internet</td>\n",
       "      <td>Job Description   Send me Jobs like this Quali...</td>\n",
       "      <td>210516002263</td>\n",
       "      <td>Chennai</td>\n",
       "      <td>Walkin Data Entry Operator (night Shift)</td>\n",
       "      <td>NaN</td>\n",
       "      <td>NaN</td>\n",
       "      <td>ITES</td>\n",
       "      <td>150000.0</td>\n",
       "      <td>225000.0</td>\n",
       "      <td>0.0</td>\n",
       "      <td>1.0</td>\n",
       "      <td>0.5</td>\n",
       "      <td>187500.0</td>\n",
       "      <td>21.0</td>\n",
       "      <td>5.0</td>\n",
       "      <td>2016.0</td>\n",
       "    </tr>\n",
       "    <tr>\n",
       "      <th>1</th>\n",
       "      <td>find live infotech</td>\n",
       "      <td>UG: B.Tech/B.E. - Any Specialization PG:MBA/PG...</td>\n",
       "      <td>Advertising / PR / MR / Event Management</td>\n",
       "      <td>Job Description   Send me Jobs like this Quali...</td>\n",
       "      <td>210516002391</td>\n",
       "      <td>Chennai</td>\n",
       "      <td>Work Based Onhome Based Part Time.</td>\n",
       "      <td>60.0</td>\n",
       "      <td>NaN</td>\n",
       "      <td>Marketing</td>\n",
       "      <td>150000.0</td>\n",
       "      <td>250000.0</td>\n",
       "      <td>0.0</td>\n",
       "      <td>0.0</td>\n",
       "      <td>0.0</td>\n",
       "      <td>200000.0</td>\n",
       "      <td>21.0</td>\n",
       "      <td>5.0</td>\n",
       "      <td>2016.0</td>\n",
       "    </tr>\n",
       "    <tr>\n",
       "      <th>2</th>\n",
       "      <td>Softtech Career Infosystem Pvt. Ltd</td>\n",
       "      <td>UG: Any Graduate - Any Specialization PG:Any P...</td>\n",
       "      <td>IT-Software / Software Services</td>\n",
       "      <td>Job Description   Send me Jobs like this - as ...</td>\n",
       "      <td>101016900534</td>\n",
       "      <td>Bangalore</td>\n",
       "      <td>Pl/sql Developer - SQL</td>\n",
       "      <td>NaN</td>\n",
       "      <td>NaN</td>\n",
       "      <td>IT Software - Application Programming</td>\n",
       "      <td>NaN</td>\n",
       "      <td>NaN</td>\n",
       "      <td>4.0</td>\n",
       "      <td>8.0</td>\n",
       "      <td>6.0</td>\n",
       "      <td>NaN</td>\n",
       "      <td>13.0</td>\n",
       "      <td>10.0</td>\n",
       "      <td>2016.0</td>\n",
       "    </tr>\n",
       "    <tr>\n",
       "      <th>3</th>\n",
       "      <td>Onboard HRServices LLP</td>\n",
       "      <td>UG: Any Graduate - Any Specialization PG:CA Do...</td>\n",
       "      <td>Banking / Financial Services / Broking</td>\n",
       "      <td>Job Description   Send me Jobs like this - Inv...</td>\n",
       "      <td>81016900536</td>\n",
       "      <td>Mumbai, Bangalore, Kolkata, Chennai, Coimbator...</td>\n",
       "      <td>Manager/ad/partner - Indirect Tax - CA</td>\n",
       "      <td>NaN</td>\n",
       "      <td>NaN</td>\n",
       "      <td>Accounts</td>\n",
       "      <td>NaN</td>\n",
       "      <td>NaN</td>\n",
       "      <td>11.0</td>\n",
       "      <td>15.0</td>\n",
       "      <td>13.0</td>\n",
       "      <td>NaN</td>\n",
       "      <td>13.0</td>\n",
       "      <td>10.0</td>\n",
       "      <td>2016.0</td>\n",
       "    </tr>\n",
       "  </tbody>\n",
       "</table>\n",
       "</div>"
      ],
      "text/plain": [
       "                               company  \\\n",
       "0                     MM Media Pvt Ltd   \n",
       "1                   find live infotech   \n",
       "2  Softtech Career Infosystem Pvt. Ltd   \n",
       "3               Onboard HRServices LLP   \n",
       "\n",
       "                                           education  \\\n",
       "0  UG: B.Tech/B.E. - Any Specialization PG:Any Po...   \n",
       "1  UG: B.Tech/B.E. - Any Specialization PG:MBA/PG...   \n",
       "2  UG: Any Graduate - Any Specialization PG:Any P...   \n",
       "3  UG: Any Graduate - Any Specialization PG:CA Do...   \n",
       "\n",
       "                                   industry  \\\n",
       "0          Media / Entertainment / Internet   \n",
       "1  Advertising / PR / MR / Event Management   \n",
       "2           IT-Software / Software Services   \n",
       "3    Banking / Financial Services / Broking   \n",
       "\n",
       "                                      jobdescription         jobid  \\\n",
       "0  Job Description   Send me Jobs like this Quali...  210516002263   \n",
       "1  Job Description   Send me Jobs like this Quali...  210516002391   \n",
       "2  Job Description   Send me Jobs like this - as ...  101016900534   \n",
       "3  Job Description   Send me Jobs like this - Inv...   81016900536   \n",
       "\n",
       "                                 joblocation_address  \\\n",
       "0                                            Chennai   \n",
       "1                                            Chennai   \n",
       "2                                          Bangalore   \n",
       "3  Mumbai, Bangalore, Kolkata, Chennai, Coimbator...   \n",
       "\n",
       "                                   jobtitle  numberofpositions site_name  \\\n",
       "0  Walkin Data Entry Operator (night Shift)                NaN       NaN   \n",
       "1        Work Based Onhome Based Part Time.               60.0       NaN   \n",
       "2                    Pl/sql Developer - SQL                NaN       NaN   \n",
       "3    Manager/ad/partner - Indirect Tax - CA                NaN       NaN   \n",
       "\n",
       "                                  skills   min_pay   max_pay  min_exp  \\\n",
       "0                                   ITES  150000.0  225000.0      0.0   \n",
       "1                              Marketing  150000.0  250000.0      0.0   \n",
       "2  IT Software - Application Programming       NaN       NaN      4.0   \n",
       "3                               Accounts       NaN       NaN     11.0   \n",
       "\n",
       "   max_exp  avg_expereince  avg_payrate   day  month    year  \n",
       "0      1.0             0.5     187500.0  21.0    5.0  2016.0  \n",
       "1      0.0             0.0     200000.0  21.0    5.0  2016.0  \n",
       "2      8.0             6.0          NaN  13.0   10.0  2016.0  \n",
       "3     15.0            13.0          NaN  13.0   10.0  2016.0  "
      ]
     },
     "execution_count": 3,
     "metadata": {},
     "output_type": "execute_result"
    }
   ],
   "source": [
    "df.head(4)"
   ]
  },
  {
   "cell_type": "markdown",
   "id": "ac0ce8e2",
   "metadata": {},
   "source": [
    "## Perform Descriptive Statistics"
   ]
  },
  {
   "cell_type": "code",
   "execution_count": 4,
   "id": "de361cb8",
   "metadata": {},
   "outputs": [
    {
     "data": {
      "text/html": [
       "<div>\n",
       "<style scoped>\n",
       "    .dataframe tbody tr th:only-of-type {\n",
       "        vertical-align: middle;\n",
       "    }\n",
       "\n",
       "    .dataframe tbody tr th {\n",
       "        vertical-align: top;\n",
       "    }\n",
       "\n",
       "    .dataframe thead th {\n",
       "        text-align: right;\n",
       "    }\n",
       "</style>\n",
       "<table border=\"1\" class=\"dataframe\">\n",
       "  <thead>\n",
       "    <tr style=\"text-align: right;\">\n",
       "      <th></th>\n",
       "      <th>count</th>\n",
       "      <th>mean</th>\n",
       "      <th>std</th>\n",
       "      <th>min</th>\n",
       "      <th>25%</th>\n",
       "      <th>50%</th>\n",
       "      <th>75%</th>\n",
       "      <th>max</th>\n",
       "    </tr>\n",
       "  </thead>\n",
       "  <tbody>\n",
       "    <tr>\n",
       "      <th>jobid</th>\n",
       "      <td>22000.0</td>\n",
       "      <td>1.561171e+11</td>\n",
       "      <td>9.423956e+10</td>\n",
       "      <td>1.011600e+10</td>\n",
       "      <td>6.121650e+10</td>\n",
       "      <td>1.602169e+11</td>\n",
       "      <td>2.502166e+11</td>\n",
       "      <td>3.112155e+11</td>\n",
       "    </tr>\n",
       "    <tr>\n",
       "      <th>numberofpositions</th>\n",
       "      <td>4464.0</td>\n",
       "      <td>4.511694e+01</td>\n",
       "      <td>1.861972e+02</td>\n",
       "      <td>1.000000e+00</td>\n",
       "      <td>2.000000e+00</td>\n",
       "      <td>4.000000e+00</td>\n",
       "      <td>1.000000e+01</td>\n",
       "      <td>2.000000e+03</td>\n",
       "    </tr>\n",
       "    <tr>\n",
       "      <th>min_pay</th>\n",
       "      <td>4641.0</td>\n",
       "      <td>4.493986e+05</td>\n",
       "      <td>5.509237e+05</td>\n",
       "      <td>1.500000e+01</td>\n",
       "      <td>1.500000e+05</td>\n",
       "      <td>2.500000e+05</td>\n",
       "      <td>5.000000e+05</td>\n",
       "      <td>5.500000e+06</td>\n",
       "    </tr>\n",
       "    <tr>\n",
       "      <th>max_pay</th>\n",
       "      <td>4940.0</td>\n",
       "      <td>7.342964e+05</td>\n",
       "      <td>7.559780e+05</td>\n",
       "      <td>1.000000e+00</td>\n",
       "      <td>3.000000e+05</td>\n",
       "      <td>5.000000e+05</td>\n",
       "      <td>9.000000e+05</td>\n",
       "      <td>8.000000e+06</td>\n",
       "    </tr>\n",
       "    <tr>\n",
       "      <th>min_exp</th>\n",
       "      <td>21884.0</td>\n",
       "      <td>3.600987e+00</td>\n",
       "      <td>3.100532e+00</td>\n",
       "      <td>0.000000e+00</td>\n",
       "      <td>2.000000e+00</td>\n",
       "      <td>3.000000e+00</td>\n",
       "      <td>5.000000e+00</td>\n",
       "      <td>2.600000e+01</td>\n",
       "    </tr>\n",
       "    <tr>\n",
       "      <th>max_exp</th>\n",
       "      <td>21884.0</td>\n",
       "      <td>7.117803e+00</td>\n",
       "      <td>3.923900e+00</td>\n",
       "      <td>0.000000e+00</td>\n",
       "      <td>5.000000e+00</td>\n",
       "      <td>7.000000e+00</td>\n",
       "      <td>9.000000e+00</td>\n",
       "      <td>3.000000e+01</td>\n",
       "    </tr>\n",
       "    <tr>\n",
       "      <th>avg_expereince</th>\n",
       "      <td>21884.0</td>\n",
       "      <td>5.359395e+00</td>\n",
       "      <td>3.444409e+00</td>\n",
       "      <td>0.000000e+00</td>\n",
       "      <td>3.000000e+00</td>\n",
       "      <td>4.500000e+00</td>\n",
       "      <td>7.000000e+00</td>\n",
       "      <td>2.800000e+01</td>\n",
       "    </tr>\n",
       "    <tr>\n",
       "      <th>avg_payrate</th>\n",
       "      <td>4640.0</td>\n",
       "      <td>6.149812e+05</td>\n",
       "      <td>6.442135e+05</td>\n",
       "      <td>1.750000e+01</td>\n",
       "      <td>2.500000e+05</td>\n",
       "      <td>3.750000e+05</td>\n",
       "      <td>7.500000e+05</td>\n",
       "      <td>6.500000e+06</td>\n",
       "    </tr>\n",
       "    <tr>\n",
       "      <th>day</th>\n",
       "      <td>21977.0</td>\n",
       "      <td>1.884993e+01</td>\n",
       "      <td>9.751744e+00</td>\n",
       "      <td>1.000000e+00</td>\n",
       "      <td>9.000000e+00</td>\n",
       "      <td>2.200000e+01</td>\n",
       "      <td>2.900000e+01</td>\n",
       "      <td>3.100000e+01</td>\n",
       "    </tr>\n",
       "    <tr>\n",
       "      <th>month</th>\n",
       "      <td>21977.0</td>\n",
       "      <td>7.224189e+00</td>\n",
       "      <td>4.062145e+00</td>\n",
       "      <td>1.000000e+00</td>\n",
       "      <td>3.000000e+00</td>\n",
       "      <td>8.000000e+00</td>\n",
       "      <td>1.100000e+01</td>\n",
       "      <td>1.200000e+01</td>\n",
       "    </tr>\n",
       "    <tr>\n",
       "      <th>year</th>\n",
       "      <td>21977.0</td>\n",
       "      <td>2.015751e+03</td>\n",
       "      <td>4.505767e-01</td>\n",
       "      <td>2.015000e+03</td>\n",
       "      <td>2.015000e+03</td>\n",
       "      <td>2.016000e+03</td>\n",
       "      <td>2.016000e+03</td>\n",
       "      <td>2.017000e+03</td>\n",
       "    </tr>\n",
       "  </tbody>\n",
       "</table>\n",
       "</div>"
      ],
      "text/plain": [
       "                     count          mean           std           min  \\\n",
       "jobid              22000.0  1.561171e+11  9.423956e+10  1.011600e+10   \n",
       "numberofpositions   4464.0  4.511694e+01  1.861972e+02  1.000000e+00   \n",
       "min_pay             4641.0  4.493986e+05  5.509237e+05  1.500000e+01   \n",
       "max_pay             4940.0  7.342964e+05  7.559780e+05  1.000000e+00   \n",
       "min_exp            21884.0  3.600987e+00  3.100532e+00  0.000000e+00   \n",
       "max_exp            21884.0  7.117803e+00  3.923900e+00  0.000000e+00   \n",
       "avg_expereince     21884.0  5.359395e+00  3.444409e+00  0.000000e+00   \n",
       "avg_payrate         4640.0  6.149812e+05  6.442135e+05  1.750000e+01   \n",
       "day                21977.0  1.884993e+01  9.751744e+00  1.000000e+00   \n",
       "month              21977.0  7.224189e+00  4.062145e+00  1.000000e+00   \n",
       "year               21977.0  2.015751e+03  4.505767e-01  2.015000e+03   \n",
       "\n",
       "                            25%           50%           75%           max  \n",
       "jobid              6.121650e+10  1.602169e+11  2.502166e+11  3.112155e+11  \n",
       "numberofpositions  2.000000e+00  4.000000e+00  1.000000e+01  2.000000e+03  \n",
       "min_pay            1.500000e+05  2.500000e+05  5.000000e+05  5.500000e+06  \n",
       "max_pay            3.000000e+05  5.000000e+05  9.000000e+05  8.000000e+06  \n",
       "min_exp            2.000000e+00  3.000000e+00  5.000000e+00  2.600000e+01  \n",
       "max_exp            5.000000e+00  7.000000e+00  9.000000e+00  3.000000e+01  \n",
       "avg_expereince     3.000000e+00  4.500000e+00  7.000000e+00  2.800000e+01  \n",
       "avg_payrate        2.500000e+05  3.750000e+05  7.500000e+05  6.500000e+06  \n",
       "day                9.000000e+00  2.200000e+01  2.900000e+01  3.100000e+01  \n",
       "month              3.000000e+00  8.000000e+00  1.100000e+01  1.200000e+01  \n",
       "year               2.015000e+03  2.016000e+03  2.016000e+03  2.017000e+03  "
      ]
     },
     "execution_count": 4,
     "metadata": {},
     "output_type": "execute_result"
    }
   ],
   "source": [
    "# This is for Numeric Data\n",
    "df.describe().T"
   ]
  },
  {
   "cell_type": "code",
   "execution_count": 5,
   "id": "4fecc099",
   "metadata": {},
   "outputs": [
    {
     "data": {
      "text/html": [
       "<div>\n",
       "<style scoped>\n",
       "    .dataframe tbody tr th:only-of-type {\n",
       "        vertical-align: middle;\n",
       "    }\n",
       "\n",
       "    .dataframe tbody tr th {\n",
       "        vertical-align: top;\n",
       "    }\n",
       "\n",
       "    .dataframe thead th {\n",
       "        text-align: right;\n",
       "    }\n",
       "</style>\n",
       "<table border=\"1\" class=\"dataframe\">\n",
       "  <thead>\n",
       "    <tr style=\"text-align: right;\">\n",
       "      <th></th>\n",
       "      <th>count</th>\n",
       "      <th>unique</th>\n",
       "      <th>top</th>\n",
       "      <th>freq</th>\n",
       "    </tr>\n",
       "  </thead>\n",
       "  <tbody>\n",
       "    <tr>\n",
       "      <th>company</th>\n",
       "      <td>21996</td>\n",
       "      <td>8469</td>\n",
       "      <td>Indian Institute of Technology Bombay</td>\n",
       "      <td>403</td>\n",
       "    </tr>\n",
       "    <tr>\n",
       "      <th>education</th>\n",
       "      <td>20004</td>\n",
       "      <td>2355</td>\n",
       "      <td>UG: Any Graduate - Any Specialization, Graduat...</td>\n",
       "      <td>2015</td>\n",
       "    </tr>\n",
       "    <tr>\n",
       "      <th>industry</th>\n",
       "      <td>21995</td>\n",
       "      <td>63</td>\n",
       "      <td>IT-Software / Software Services</td>\n",
       "      <td>9216</td>\n",
       "    </tr>\n",
       "    <tr>\n",
       "      <th>jobdescription</th>\n",
       "      <td>21996</td>\n",
       "      <td>21063</td>\n",
       "      <td>Job Description   Send me Jobs like this Adver...</td>\n",
       "      <td>121</td>\n",
       "    </tr>\n",
       "    <tr>\n",
       "      <th>joblocation_address</th>\n",
       "      <td>21499</td>\n",
       "      <td>2141</td>\n",
       "      <td>Bangalore</td>\n",
       "      <td>5228</td>\n",
       "    </tr>\n",
       "    <tr>\n",
       "      <th>jobtitle</th>\n",
       "      <td>22000</td>\n",
       "      <td>17564</td>\n",
       "      <td>Business Development Executive</td>\n",
       "      <td>93</td>\n",
       "    </tr>\n",
       "    <tr>\n",
       "      <th>site_name</th>\n",
       "      <td>3987</td>\n",
       "      <td>1</td>\n",
       "      <td>www.naukri.com</td>\n",
       "      <td>3987</td>\n",
       "    </tr>\n",
       "    <tr>\n",
       "      <th>skills</th>\n",
       "      <td>21472</td>\n",
       "      <td>45</td>\n",
       "      <td>IT Software - Application Programming</td>\n",
       "      <td>5989</td>\n",
       "    </tr>\n",
       "  </tbody>\n",
       "</table>\n",
       "</div>"
      ],
      "text/plain": [
       "                     count unique  \\\n",
       "company              21996   8469   \n",
       "education            20004   2355   \n",
       "industry             21995     63   \n",
       "jobdescription       21996  21063   \n",
       "joblocation_address  21499   2141   \n",
       "jobtitle             22000  17564   \n",
       "site_name             3987      1   \n",
       "skills               21472     45   \n",
       "\n",
       "                                                                   top  freq  \n",
       "company                          Indian Institute of Technology Bombay   403  \n",
       "education            UG: Any Graduate - Any Specialization, Graduat...  2015  \n",
       "industry                               IT-Software / Software Services  9216  \n",
       "jobdescription       Job Description   Send me Jobs like this Adver...   121  \n",
       "joblocation_address                                          Bangalore  5228  \n",
       "jobtitle                                Business Development Executive    93  \n",
       "site_name                                               www.naukri.com  3987  \n",
       "skills                           IT Software - Application Programming  5989  "
      ]
     },
     "execution_count": 5,
     "metadata": {},
     "output_type": "execute_result"
    }
   ],
   "source": [
    "# This is for Other Data Types\n",
    "df.describe(include=['O']).T"
   ]
  },
  {
   "cell_type": "markdown",
   "id": "6cd4ef1d",
   "metadata": {},
   "source": [
    "## Extract ALL the Categorical Features from the DataFrame "
   ]
  },
  {
   "cell_type": "code",
   "execution_count": 6,
   "id": "fab7998f",
   "metadata": {},
   "outputs": [
    {
     "name": "stdout",
     "output_type": "stream",
     "text": [
      "['company', 'education', 'industry', 'jobdescription', 'joblocation_address', 'jobtitle', 'site_name', 'skills']\n"
     ]
    }
   ],
   "source": [
    "## Find categorical variables using list comprehension\n",
    "\n",
    "categorical = [col for col in df.columns if df[col].dtype == 'object']\n",
    "print(categorical)"
   ]
  },
  {
   "cell_type": "code",
   "execution_count": 7,
   "id": "2bdd5673",
   "metadata": {},
   "outputs": [
    {
     "name": "stdout",
     "output_type": "stream",
     "text": [
      "['jobid', 'numberofpositions', 'min_pay', 'max_pay', 'min_exp', 'max_exp', 'avg_expereince', 'avg_payrate', 'day', 'month', 'year']\n"
     ]
    }
   ],
   "source": [
    "## Find numerical variables using list comprehension\n",
    "\n",
    "numerical = [col for col in df.columns if df[col].dtype != 'object']\n",
    "print(numerical)"
   ]
  },
  {
   "cell_type": "code",
   "execution_count": 8,
   "id": "f3a4a9dc",
   "metadata": {},
   "outputs": [
    {
     "data": {
      "text/plain": [
       "['company',\n",
       " 'education',\n",
       " 'industry',\n",
       " 'jobdescription',\n",
       " 'joblocation_address',\n",
       " 'jobtitle',\n",
       " 'site_name',\n",
       " 'skills']"
      ]
     },
     "execution_count": 8,
     "metadata": {},
     "output_type": "execute_result"
    }
   ],
   "source": [
    "## Find categorical variables using List\n",
    "\n",
    "cat=[]\n",
    "for col in df.columns:\n",
    "    if df[col].dtype=='object':\n",
    "        cat.append(col)\n",
    "        \n",
    "cat"
   ]
  },
  {
   "cell_type": "code",
   "execution_count": 9,
   "id": "1031d4a9",
   "metadata": {},
   "outputs": [
    {
     "data": {
      "text/plain": [
       "Index(['company', 'education', 'industry', 'jobdescription',\n",
       "       'joblocation_address', 'jobtitle', 'site_name', 'skills'],\n",
       "      dtype='object')"
      ]
     },
     "execution_count": 9,
     "metadata": {},
     "output_type": "execute_result"
    }
   ],
   "source": [
    "# Find categorical variables using select_dtypes in-built function of pandas\n",
    "\n",
    "df.select_dtypes(include='O').columns"
   ]
  },
  {
   "cell_type": "code",
   "execution_count": 10,
   "id": "dce49661",
   "metadata": {},
   "outputs": [
    {
     "data": {
      "text/plain": [
       "['company',\n",
       " 'education',\n",
       " 'industry',\n",
       " 'jobdescription',\n",
       " 'joblocation_address',\n",
       " 'jobtitle',\n",
       " 'site_name',\n",
       " 'skills']"
      ]
     },
     "execution_count": 10,
     "metadata": {},
     "output_type": "execute_result"
    }
   ],
   "source": [
    "### Find categorical variables using dictionary\n",
    "\n",
    "[key for key in dict(df.dtypes) if dict(df.dtypes)[key] in ['object'] ]"
   ]
  },
  {
   "cell_type": "code",
   "execution_count": 11,
   "id": "67e7ba5f",
   "metadata": {},
   "outputs": [
    {
     "name": "stdout",
     "output_type": "stream",
     "text": [
      "['company', 'education', 'industry', 'jobdescription', 'joblocation_address', 'jobtitle', 'site_name', 'skills']\n"
     ]
    }
   ],
   "source": [
    "### Find categorical variables using filter & enumeration\n",
    "\n",
    "categorical_values  = (df.dtypes == 'object') ### returns value in the form of True & False..\n",
    "print([categorical_values.index[index] for index, value in enumerate(categorical_values) if value == True])\n"
   ]
  },
  {
   "cell_type": "code",
   "execution_count": 12,
   "id": "970a7e4c",
   "metadata": {},
   "outputs": [
    {
     "data": {
      "text/plain": [
       "Index(['jobid', 'numberofpositions', 'min_pay', 'max_pay', 'min_exp',\n",
       "       'max_exp', 'avg_expereince', 'avg_payrate', 'day', 'month', 'year'],\n",
       "      dtype='object')"
      ]
     },
     "execution_count": 12,
     "metadata": {},
     "output_type": "execute_result"
    }
   ],
   "source": [
    "### Find categorical variables using _get_numeric_data() to get numeric columns and then find out categorical columns\n",
    "\n",
    "df._get_numeric_data().columns"
   ]
  },
  {
   "cell_type": "code",
   "execution_count": 13,
   "id": "e8e6bd12",
   "metadata": {},
   "outputs": [
    {
     "data": {
      "text/plain": [
       "{'company',\n",
       " 'education',\n",
       " 'industry',\n",
       " 'jobdescription',\n",
       " 'joblocation_address',\n",
       " 'jobtitle',\n",
       " 'site_name',\n",
       " 'skills'}"
      ]
     },
     "execution_count": 13,
     "metadata": {},
     "output_type": "execute_result"
    }
   ],
   "source": [
    "set(df.columns) - set(df._get_numeric_data().columns)\n",
    "### [feature for feature in df.columns if feature not in df._get_numeric_data().columns]\n"
   ]
  },
  {
   "cell_type": "code",
   "execution_count": 14,
   "id": "118c5011",
   "metadata": {},
   "outputs": [
    {
     "data": {
      "text/plain": [
       "Index(['company', 'education', 'industry', 'jobdescription',\n",
       "       'joblocation_address', 'jobtitle', 'site_name', 'skills'],\n",
       "      dtype='object')"
      ]
     },
     "execution_count": 14,
     "metadata": {},
     "output_type": "execute_result"
    }
   ],
   "source": [
    "### Find categorical variables using filter-in-list    \n",
    "\n",
    "df.dtypes[df.dtypes == 'object'].index"
   ]
  },
  {
   "cell_type": "code",
   "execution_count": 15,
   "id": "f881d09c",
   "metadata": {},
   "outputs": [
    {
     "data": {
      "text/plain": [
       "{'company',\n",
       " 'education',\n",
       " 'industry',\n",
       " 'jobdescription',\n",
       " 'joblocation_address',\n",
       " 'jobtitle',\n",
       " 'site_name',\n",
       " 'skills'}"
      ]
     },
     "execution_count": 15,
     "metadata": {},
     "output_type": "execute_result"
    }
   ],
   "source": [
    "### Find categorical variables using isin function of pandas\n",
    "\n",
    "### Do you have a mix of 'object' and 'category'? Then use isin\n",
    "##df.dtypes[df.dtypes.isin(['object'])].index\n",
    "\n",
    "set(df.columns) - set(df.describe().columns)"
   ]
  },
  {
   "cell_type": "code",
   "execution_count": 16,
   "id": "ae88628a",
   "metadata": {},
   "outputs": [
    {
     "data": {
      "text/plain": [
       "['jobid',\n",
       " 'numberofpositions',\n",
       " 'min_pay',\n",
       " 'max_pay',\n",
       " 'min_exp',\n",
       " 'max_exp',\n",
       " 'avg_expereince',\n",
       " 'avg_payrate',\n",
       " 'day',\n",
       " 'month',\n",
       " 'year']"
      ]
     },
     "execution_count": 16,
     "metadata": {},
     "output_type": "execute_result"
    }
   ],
   "source": [
    "### lets find all the ways to find out numerical features..\n",
    "\n",
    "'''\n",
    "df.select_dtypes(include=['int64','int32','int16',float64','float32','float16'])\n",
    "\n",
    "These are ('int64','int32','int16',float64','float32','float16') data-types in numpy library..\n",
    "Int32 is a 32 bit signed integer , it means it stores both positive & negative values\n",
    "int32 has a length of 32 bits (4 bytes). \n",
    "int32 has has a range of (2³¹ − 1) to  -2^31\n",
    "\n",
    "\n",
    "float32 is a 32 bit number ,similarly float64 is a 64 bit number.. \n",
    "float64 uses 64 bits.\n",
    "That means that float64’s take up twice as much memory-and doing operations on them may be a lot slower in some machine architectures.\n",
    "However, float64’s can represent numbers much more accurately than 32 bit floats.\n",
    "They also allow much larger numbers to be stored..\n",
    "\n",
    "'''\n",
    "\n",
    "[key for key in dict(df.dtypes) if dict(df.dtypes)[key] in ['float64','float32','int32','int64']]"
   ]
  },
  {
   "cell_type": "markdown",
   "id": "09204a14",
   "metadata": {},
   "source": [
    "## Correlation Analysis"
   ]
  },
  {
   "cell_type": "code",
   "execution_count": 17,
   "id": "a0a1e642",
   "metadata": {},
   "outputs": [
    {
     "data": {
      "text/html": [
       "<div>\n",
       "<style scoped>\n",
       "    .dataframe tbody tr th:only-of-type {\n",
       "        vertical-align: middle;\n",
       "    }\n",
       "\n",
       "    .dataframe tbody tr th {\n",
       "        vertical-align: top;\n",
       "    }\n",
       "\n",
       "    .dataframe thead th {\n",
       "        text-align: right;\n",
       "    }\n",
       "</style>\n",
       "<table border=\"1\" class=\"dataframe\">\n",
       "  <thead>\n",
       "    <tr style=\"text-align: right;\">\n",
       "      <th></th>\n",
       "      <th>jobid</th>\n",
       "      <th>numberofpositions</th>\n",
       "      <th>min_pay</th>\n",
       "      <th>max_pay</th>\n",
       "      <th>min_exp</th>\n",
       "      <th>max_exp</th>\n",
       "      <th>avg_expereince</th>\n",
       "      <th>avg_payrate</th>\n",
       "      <th>day</th>\n",
       "      <th>month</th>\n",
       "      <th>year</th>\n",
       "    </tr>\n",
       "  </thead>\n",
       "  <tbody>\n",
       "    <tr>\n",
       "      <th>jobid</th>\n",
       "      <td>1.000000</td>\n",
       "      <td>-0.041356</td>\n",
       "      <td>-0.010856</td>\n",
       "      <td>-0.009570</td>\n",
       "      <td>0.025795</td>\n",
       "      <td>0.023397</td>\n",
       "      <td>0.024937</td>\n",
       "      <td>-0.008172</td>\n",
       "      <td>0.568167</td>\n",
       "      <td>-0.256826</td>\n",
       "      <td>0.091035</td>\n",
       "    </tr>\n",
       "    <tr>\n",
       "      <th>numberofpositions</th>\n",
       "      <td>-0.041356</td>\n",
       "      <td>1.000000</td>\n",
       "      <td>-0.121553</td>\n",
       "      <td>-0.148161</td>\n",
       "      <td>-0.194685</td>\n",
       "      <td>-0.212955</td>\n",
       "      <td>-0.208745</td>\n",
       "      <td>-0.138778</td>\n",
       "      <td>-0.019797</td>\n",
       "      <td>-0.072022</td>\n",
       "      <td>0.047774</td>\n",
       "    </tr>\n",
       "    <tr>\n",
       "      <th>min_pay</th>\n",
       "      <td>-0.010856</td>\n",
       "      <td>-0.121553</td>\n",
       "      <td>1.000000</td>\n",
       "      <td>0.938850</td>\n",
       "      <td>0.709683</td>\n",
       "      <td>0.677629</td>\n",
       "      <td>0.704354</td>\n",
       "      <td>0.979315</td>\n",
       "      <td>-0.009659</td>\n",
       "      <td>-0.025859</td>\n",
       "      <td>0.057210</td>\n",
       "    </tr>\n",
       "    <tr>\n",
       "      <th>max_pay</th>\n",
       "      <td>-0.009570</td>\n",
       "      <td>-0.148161</td>\n",
       "      <td>0.938850</td>\n",
       "      <td>1.000000</td>\n",
       "      <td>0.612399</td>\n",
       "      <td>0.624441</td>\n",
       "      <td>0.630134</td>\n",
       "      <td>0.989101</td>\n",
       "      <td>-0.005154</td>\n",
       "      <td>-0.002053</td>\n",
       "      <td>0.038748</td>\n",
       "    </tr>\n",
       "    <tr>\n",
       "      <th>min_exp</th>\n",
       "      <td>0.025795</td>\n",
       "      <td>-0.194685</td>\n",
       "      <td>0.709683</td>\n",
       "      <td>0.612399</td>\n",
       "      <td>1.000000</td>\n",
       "      <td>0.922456</td>\n",
       "      <td>0.975517</td>\n",
       "      <td>0.716731</td>\n",
       "      <td>-0.013617</td>\n",
       "      <td>-0.037447</td>\n",
       "      <td>0.094205</td>\n",
       "    </tr>\n",
       "    <tr>\n",
       "      <th>max_exp</th>\n",
       "      <td>0.023397</td>\n",
       "      <td>-0.212955</td>\n",
       "      <td>0.677629</td>\n",
       "      <td>0.624441</td>\n",
       "      <td>0.922456</td>\n",
       "      <td>1.000000</td>\n",
       "      <td>0.984785</td>\n",
       "      <td>0.701668</td>\n",
       "      <td>-0.024664</td>\n",
       "      <td>-0.027442</td>\n",
       "      <td>0.088948</td>\n",
       "    </tr>\n",
       "    <tr>\n",
       "      <th>avg_expereince</th>\n",
       "      <td>0.024937</td>\n",
       "      <td>-0.208745</td>\n",
       "      <td>0.704354</td>\n",
       "      <td>0.630134</td>\n",
       "      <td>0.975517</td>\n",
       "      <td>0.984785</td>\n",
       "      <td>1.000000</td>\n",
       "      <td>0.721296</td>\n",
       "      <td>-0.020177</td>\n",
       "      <td>-0.032485</td>\n",
       "      <td>0.093065</td>\n",
       "    </tr>\n",
       "    <tr>\n",
       "      <th>avg_payrate</th>\n",
       "      <td>-0.008172</td>\n",
       "      <td>-0.138778</td>\n",
       "      <td>0.979315</td>\n",
       "      <td>0.989101</td>\n",
       "      <td>0.716731</td>\n",
       "      <td>0.701668</td>\n",
       "      <td>0.721296</td>\n",
       "      <td>1.000000</td>\n",
       "      <td>-0.002908</td>\n",
       "      <td>-0.022663</td>\n",
       "      <td>0.059608</td>\n",
       "    </tr>\n",
       "    <tr>\n",
       "      <th>day</th>\n",
       "      <td>0.568167</td>\n",
       "      <td>-0.019797</td>\n",
       "      <td>-0.009659</td>\n",
       "      <td>-0.005154</td>\n",
       "      <td>-0.013617</td>\n",
       "      <td>-0.024664</td>\n",
       "      <td>-0.020177</td>\n",
       "      <td>-0.002908</td>\n",
       "      <td>1.000000</td>\n",
       "      <td>-0.013063</td>\n",
       "      <td>-0.372578</td>\n",
       "    </tr>\n",
       "    <tr>\n",
       "      <th>month</th>\n",
       "      <td>-0.256826</td>\n",
       "      <td>-0.072022</td>\n",
       "      <td>-0.025859</td>\n",
       "      <td>-0.002053</td>\n",
       "      <td>-0.037447</td>\n",
       "      <td>-0.027442</td>\n",
       "      <td>-0.032485</td>\n",
       "      <td>-0.022663</td>\n",
       "      <td>-0.013063</td>\n",
       "      <td>1.000000</td>\n",
       "      <td>-0.598949</td>\n",
       "    </tr>\n",
       "    <tr>\n",
       "      <th>year</th>\n",
       "      <td>0.091035</td>\n",
       "      <td>0.047774</td>\n",
       "      <td>0.057210</td>\n",
       "      <td>0.038748</td>\n",
       "      <td>0.094205</td>\n",
       "      <td>0.088948</td>\n",
       "      <td>0.093065</td>\n",
       "      <td>0.059608</td>\n",
       "      <td>-0.372578</td>\n",
       "      <td>-0.598949</td>\n",
       "      <td>1.000000</td>\n",
       "    </tr>\n",
       "  </tbody>\n",
       "</table>\n",
       "</div>"
      ],
      "text/plain": [
       "                      jobid  numberofpositions   min_pay   max_pay   min_exp  \\\n",
       "jobid              1.000000          -0.041356 -0.010856 -0.009570  0.025795   \n",
       "numberofpositions -0.041356           1.000000 -0.121553 -0.148161 -0.194685   \n",
       "min_pay           -0.010856          -0.121553  1.000000  0.938850  0.709683   \n",
       "max_pay           -0.009570          -0.148161  0.938850  1.000000  0.612399   \n",
       "min_exp            0.025795          -0.194685  0.709683  0.612399  1.000000   \n",
       "max_exp            0.023397          -0.212955  0.677629  0.624441  0.922456   \n",
       "avg_expereince     0.024937          -0.208745  0.704354  0.630134  0.975517   \n",
       "avg_payrate       -0.008172          -0.138778  0.979315  0.989101  0.716731   \n",
       "day                0.568167          -0.019797 -0.009659 -0.005154 -0.013617   \n",
       "month             -0.256826          -0.072022 -0.025859 -0.002053 -0.037447   \n",
       "year               0.091035           0.047774  0.057210  0.038748  0.094205   \n",
       "\n",
       "                    max_exp  avg_expereince  avg_payrate       day     month  \\\n",
       "jobid              0.023397        0.024937    -0.008172  0.568167 -0.256826   \n",
       "numberofpositions -0.212955       -0.208745    -0.138778 -0.019797 -0.072022   \n",
       "min_pay            0.677629        0.704354     0.979315 -0.009659 -0.025859   \n",
       "max_pay            0.624441        0.630134     0.989101 -0.005154 -0.002053   \n",
       "min_exp            0.922456        0.975517     0.716731 -0.013617 -0.037447   \n",
       "max_exp            1.000000        0.984785     0.701668 -0.024664 -0.027442   \n",
       "avg_expereince     0.984785        1.000000     0.721296 -0.020177 -0.032485   \n",
       "avg_payrate        0.701668        0.721296     1.000000 -0.002908 -0.022663   \n",
       "day               -0.024664       -0.020177    -0.002908  1.000000 -0.013063   \n",
       "month             -0.027442       -0.032485    -0.022663 -0.013063  1.000000   \n",
       "year               0.088948        0.093065     0.059608 -0.372578 -0.598949   \n",
       "\n",
       "                       year  \n",
       "jobid              0.091035  \n",
       "numberofpositions  0.047774  \n",
       "min_pay            0.057210  \n",
       "max_pay            0.038748  \n",
       "min_exp            0.094205  \n",
       "max_exp            0.088948  \n",
       "avg_expereince     0.093065  \n",
       "avg_payrate        0.059608  \n",
       "day               -0.372578  \n",
       "month             -0.598949  \n",
       "year               1.000000  "
      ]
     },
     "execution_count": 17,
     "metadata": {},
     "output_type": "execute_result"
    }
   ],
   "source": [
    "df.corr()"
   ]
  },
  {
   "cell_type": "code",
   "execution_count": 18,
   "id": "fb6011ec",
   "metadata": {},
   "outputs": [
    {
     "data": {
      "text/plain": [
       "Text(0.5, 1.0, 'Heat Map of Job Market Analysis of India')"
      ]
     },
     "execution_count": 18,
     "metadata": {},
     "output_type": "execute_result"
    },
    {
     "data": {
      "image/png": "[encoded data removed]",
      "text/plain": [
       "<Figure size 864x432 with 2 Axes>"
      ]
     },
     "metadata": {
      "needs_background": "light"
     },
     "output_type": "display_data"
    }
   ],
   "source": [
    "plt.figure(figsize=(12,6))\n",
    "sns.heatmap(df.corr(),annot = True)\n",
    "plt.title('Heat Map of Job Market Analysis of India')"
   ]
  },
  {
   "cell_type": "code",
   "execution_count": 19,
   "id": "0b6014a3",
   "metadata": {},
   "outputs": [
    {
     "data": {
      "text/plain": [
       "jobid               -0.010856\n",
       "numberofpositions   -0.121553\n",
       "min_pay              1.000000\n",
       "max_pay              0.938850\n",
       "min_exp              0.709683\n",
       "max_exp              0.677629\n",
       "avg_expereince       0.704354\n",
       "avg_payrate          0.979315\n",
       "day                 -0.009659\n",
       "month               -0.025859\n",
       "year                 0.057210\n",
       "Name: min_pay, dtype: float64"
      ]
     },
     "execution_count": 19,
     "metadata": {},
     "output_type": "execute_result"
    }
   ],
   "source": [
    "df.corr()['min_pay']"
   ]
  },
  {
   "cell_type": "code",
   "execution_count": null,
   "id": "710b30e0",
   "metadata": {},
   "outputs": [],
   "source": []
  },
  {
   "cell_type": "code",
   "execution_count": 20,
   "id": "a765bcf4",
   "metadata": {},
   "outputs": [],
   "source": [
    "data = df.copy()"
   ]
  },
  {
   "cell_type": "code",
   "execution_count": 21,
   "id": "f2390324",
   "metadata": {},
   "outputs": [
    {
     "data": {
      "text/plain": [
       "Index(['company', 'education', 'industry', 'jobdescription', 'jobid',\n",
       "       'joblocation_address', 'jobtitle', 'numberofpositions', 'site_name',\n",
       "       'skills', 'min_pay', 'max_pay', 'min_exp', 'max_exp', 'avg_expereince',\n",
       "       'avg_payrate', 'day', 'month', 'year'],\n",
       "      dtype='object')"
      ]
     },
     "execution_count": 21,
     "metadata": {},
     "output_type": "execute_result"
    }
   ],
   "source": [
    "data.columns"
   ]
  },
  {
   "cell_type": "code",
   "execution_count": 22,
   "id": "a32b2c19",
   "metadata": {},
   "outputs": [],
   "source": [
    "comp = data['company'].value_counts().reset_index()"
   ]
  },
  {
   "cell_type": "code",
   "execution_count": 23,
   "id": "663f651c",
   "metadata": {},
   "outputs": [],
   "source": [
    "comp.columns = ['company','Number of Jobs']"
   ]
  },
  {
   "cell_type": "code",
   "execution_count": 24,
   "id": "12335e92",
   "metadata": {},
   "outputs": [
    {
     "data": {
      "text/html": [
       "<div>\n",
       "<style scoped>\n",
       "    .dataframe tbody tr th:only-of-type {\n",
       "        vertical-align: middle;\n",
       "    }\n",
       "\n",
       "    .dataframe tbody tr th {\n",
       "        vertical-align: top;\n",
       "    }\n",
       "\n",
       "    .dataframe thead th {\n",
       "        text-align: right;\n",
       "    }\n",
       "</style>\n",
       "<table border=\"1\" class=\"dataframe\">\n",
       "  <thead>\n",
       "    <tr style=\"text-align: right;\">\n",
       "      <th></th>\n",
       "      <th>company</th>\n",
       "      <th>Number of Jobs</th>\n",
       "    </tr>\n",
       "  </thead>\n",
       "  <tbody>\n",
       "    <tr>\n",
       "      <th>0</th>\n",
       "      <td>Indian Institute of Technology Bombay</td>\n",
       "      <td>403</td>\n",
       "    </tr>\n",
       "    <tr>\n",
       "      <th>1</th>\n",
       "      <td>Confidential</td>\n",
       "      <td>393</td>\n",
       "    </tr>\n",
       "    <tr>\n",
       "      <th>2</th>\n",
       "      <td>National Institute of Industrial Engineering</td>\n",
       "      <td>185</td>\n",
       "    </tr>\n",
       "    <tr>\n",
       "      <th>3</th>\n",
       "      <td>Oracle India Pvt. Ltd.</td>\n",
       "      <td>151</td>\n",
       "    </tr>\n",
       "    <tr>\n",
       "      <th>4</th>\n",
       "      <td>JPMorgan Chase</td>\n",
       "      <td>135</td>\n",
       "    </tr>\n",
       "    <tr>\n",
       "      <th>...</th>\n",
       "      <td>...</td>\n",
       "      <td>...</td>\n",
       "    </tr>\n",
       "    <tr>\n",
       "      <th>8464</th>\n",
       "      <td>Bello Jewels Pvt Ltd</td>\n",
       "      <td>1</td>\n",
       "    </tr>\n",
       "    <tr>\n",
       "      <th>8465</th>\n",
       "      <td>ITG Telematics Pvt Ltd</td>\n",
       "      <td>1</td>\n",
       "    </tr>\n",
       "    <tr>\n",
       "      <th>8466</th>\n",
       "      <td>Genuine Management Services Pvt. Limited hirin...</td>\n",
       "      <td>1</td>\n",
       "    </tr>\n",
       "    <tr>\n",
       "      <th>8467</th>\n",
       "      <td>AJAX Consulting hiring for a large Japanese MNC</td>\n",
       "      <td>1</td>\n",
       "    </tr>\n",
       "    <tr>\n",
       "      <th>8468</th>\n",
       "      <td>Musk - Startup</td>\n",
       "      <td>1</td>\n",
       "    </tr>\n",
       "  </tbody>\n",
       "</table>\n",
       "<p>8469 rows × 2 columns</p>\n",
       "</div>"
      ],
      "text/plain": [
       "                                                company  Number of Jobs\n",
       "0                 Indian Institute of Technology Bombay             403\n",
       "1                                          Confidential             393\n",
       "2          National Institute of Industrial Engineering             185\n",
       "3                                Oracle India Pvt. Ltd.             151\n",
       "4                                        JPMorgan Chase             135\n",
       "...                                                 ...             ...\n",
       "8464                               Bello Jewels Pvt Ltd               1\n",
       "8465                             ITG Telematics Pvt Ltd               1\n",
       "8466  Genuine Management Services Pvt. Limited hirin...               1\n",
       "8467    AJAX Consulting hiring for a large Japanese MNC               1\n",
       "8468                                     Musk - Startup               1\n",
       "\n",
       "[8469 rows x 2 columns]"
      ]
     },
     "execution_count": 24,
     "metadata": {},
     "output_type": "execute_result"
    }
   ],
   "source": [
    "comp"
   ]
  },
  {
   "cell_type": "code",
   "execution_count": 25,
   "id": "b74aee5c",
   "metadata": {},
   "outputs": [
    {
     "data": {
      "text/plain": [
       "([0, 1, 2, 3, 4, 5, 6, 7, 8, 9],\n",
       " [Text(0, 0, ''),\n",
       "  Text(0, 0, ''),\n",
       "  Text(0, 0, ''),\n",
       "  Text(0, 0, ''),\n",
       "  Text(0, 0, ''),\n",
       "  Text(0, 0, ''),\n",
       "  Text(0, 0, ''),\n",
       "  Text(0, 0, ''),\n",
       "  Text(0, 0, ''),\n",
       "  Text(0, 0, '')])"
      ]
     },
     "execution_count": 25,
     "metadata": {},
     "output_type": "execute_result"
    },
    {
     "data": {
      "image/png": "[encoded data removed]",
      "text/plain": [
       "<Figure size 432x288 with 1 Axes>"
      ]
     },
     "metadata": {
      "needs_background": "light"
     },
     "output_type": "display_data"
    }
   ],
   "source": [
    "## Bar Chart\n",
    "\n",
    "plt.bar(comp['company'][0:10],comp['Number of Jobs'][0:10])\n",
    "plt.xticks(rotation = 'vertical')"
   ]
  },
  {
   "cell_type": "code",
   "execution_count": 26,
   "id": "9f24015e",
   "metadata": {},
   "outputs": [
    {
     "data": {
      "text/plain": [
       "(array([], dtype=float64), [])"
      ]
     },
     "execution_count": 26,
     "metadata": {},
     "output_type": "execute_result"
    },
    {
     "data": {
      "image/png": "[encoded data removed]",
      "text/plain": [
       "<Figure size 864x432 with 1 Axes>"
      ]
     },
     "metadata": {},
     "output_type": "display_data"
    }
   ],
   "source": [
    "## Pie Chart\n",
    "plt.figure(figsize=[12,6])\n",
    "plt.pie(labels=comp['company'][0:10],x=comp['Number of Jobs'][0:10])\n",
    "plt.xticks(rotation = 'vertical')"
   ]
  },
  {
   "cell_type": "code",
   "execution_count": 33,
   "id": "21893b29",
   "metadata": {},
   "outputs": [],
   "source": [
    "## Automate the code through Function\n",
    "\n",
    "def perform_analysis(data,feature,col1,col2,chart=1):\n",
    "    \n",
    "    '''This will return us plots depending upon whatever chart we want\n",
    "    \n",
    "    Parameters\n",
    "    -------\n",
    "    \n",
    "    data:dataframe \n",
    "    \n",
    "    feature:column_name that we have to consider for analysis\n",
    "    \n",
    "    col1:1st column name that u want to assign to dataframe\n",
    "    \n",
    "    col2:2nd column name that u want to assign to dataframe\n",
    "    \n",
    "    @chart:if value of chart is 1 ,it represents bar chart\n",
    "    @chart:if value of chart is 2 ,it represents pie chart\n",
    "    \n",
    "    '''\n",
    "\n",
    "    \n",
    "    dataframe = data[feature].value_counts().reset_index()\n",
    "    dataframe.columns = [col1,col2]\n",
    "    \n",
    "    print(dataframe.head(5))\n",
    "    \n",
    "    if chart == 1:\n",
    "        plt.bar(dataframe[col1][0:10],dataframe[col2][0:10])\n",
    "        plt.xticks(rotation = 'vertical')\n",
    "        \n",
    "    elif chart == 2:\n",
    "        plt.pie(labels=dataframe[col1][0:10],x=dataframe[col2][0:10])\n",
    "        plt.xticks(rotation = 'vertical')\n"
   ]
  },
  {
   "cell_type": "code",
   "execution_count": 34,
   "id": "791fbff1",
   "metadata": {},
   "outputs": [
    {
     "name": "stdout",
     "output_type": "stream",
     "text": [
      "                                        company  Number of Jobs\n",
      "0         Indian Institute of Technology Bombay             403\n",
      "1                                  Confidential             393\n",
      "2  National Institute of Industrial Engineering             185\n",
      "3                        Oracle India Pvt. Ltd.             151\n",
      "4                                JPMorgan Chase             135\n"
     ]
    },
    {
     "data": {
      "image/png": "[encoded data removed]",
      "text/plain": [
       "<Figure size 432x288 with 1 Axes>"
      ]
     },
     "metadata": {},
     "output_type": "display_data"
    }
   ],
   "source": [
    "perform_analysis(data,'company','company','Number of Jobs',2)"
   ]
  },
  {
   "cell_type": "code",
   "execution_count": 29,
   "id": "8a6df1c6",
   "metadata": {},
   "outputs": [
    {
     "name": "stdout",
     "output_type": "stream",
     "text": [
      "\n",
      "Read a comma-separated values (csv) file into DataFrame.\n",
      "\n",
      "Also supports optionally iterating or breaking of the file\n",
      "into chunks.\n",
      "\n",
      "Additional help can be found in the online docs for\n",
      "`IO Tools <https://pandas.pydata.org/pandas-docs/stable/user_guide/io.html>`_.\n",
      "\n",
      "Parameters\n",
      "----------\n",
      "filepath_or_buffer : str, path object or file-like object\n",
      "    Any valid string path is acceptable. The string could be a URL. Valid\n",
      "    URL schemes include http, ftp, s3, gs, and file. For file URLs, a host is\n",
      "    expected. A local file could be: file://localhost/path/to/table.csv.\n",
      "\n",
      "    If you want to pass in a path object, pandas accepts any ``os.PathLike``.\n",
      "\n",
      "    By file-like object, we refer to objects with a ``read()`` method, such as\n",
      "    a file handle (e.g. via builtin ``open`` function) or ``StringIO``.\n",
      "sep : str, default ','\n",
      "    Delimiter to use. If sep is None, the C engine cannot automatically detect\n",
      "    the separator, but the Python parsing engine can, meaning the latter will\n",
      "    be used and automatically detect the separator by Python's builtin sniffer\n",
      "    tool, ``csv.Sniffer``. In addition, separators longer than 1 character and\n",
      "    different from ``'\\s+'`` will be interpreted as regular expressions and\n",
      "    will also force the use of the Python parsing engine. Note that regex\n",
      "    delimiters are prone to ignoring quoted data. Regex example: ``'\\r\\t'``.\n",
      "delimiter : str, default ``None``\n",
      "    Alias for sep.\n",
      "header : int, list of int, default 'infer'\n",
      "    Row number(s) to use as the column names, and the start of the\n",
      "    data.  Default behavior is to infer the column names: if no names\n",
      "    are passed the behavior is identical to ``header=0`` and column\n",
      "    names are inferred from the first line of the file, if column\n",
      "    names are passed explicitly then the behavior is identical to\n",
      "    ``header=None``. Explicitly pass ``header=0`` to be able to\n",
      "    replace existing names. The header can be a list of integers that\n",
      "    specify row locations for a multi-index on the columns\n",
      "    e.g. [0,1,3]. Intervening rows that are not specified will be\n",
      "    skipped (e.g. 2 in this example is skipped). Note that this\n",
      "    parameter ignores commented lines and empty lines if\n",
      "    ``skip_blank_lines=True``, so ``header=0`` denotes the first line of\n",
      "    data rather than the first line of the file.\n",
      "names : array-like, optional\n",
      "    List of column names to use. If the file contains a header row,\n",
      "    then you should explicitly pass ``header=0`` to override the column names.\n",
      "    Duplicates in this list are not allowed.\n",
      "index_col : int, str, sequence of int / str, or False, default ``None``\n",
      "  Column(s) to use as the row labels of the ``DataFrame``, either given as\n",
      "  string name or column index. If a sequence of int / str is given, a\n",
      "  MultiIndex is used.\n",
      "\n",
      "  Note: ``index_col=False`` can be used to force pandas to *not* use the first\n",
      "  column as the index, e.g. when you have a malformed file with delimiters at\n",
      "  the end of each line.\n",
      "usecols : list-like or callable, optional\n",
      "    Return a subset of the columns. If list-like, all elements must either\n",
      "    be positional (i.e. integer indices into the document columns) or strings\n",
      "    that correspond to column names provided either by the user in `names` or\n",
      "    inferred from the document header row(s). For example, a valid list-like\n",
      "    `usecols` parameter would be ``[0, 1, 2]`` or ``['foo', 'bar', 'baz']``.\n",
      "    Element order is ignored, so ``usecols=[0, 1]`` is the same as ``[1, 0]``.\n",
      "    To instantiate a DataFrame from ``data`` with element order preserved use\n",
      "    ``pd.read_csv(data, usecols=['foo', 'bar'])[['foo', 'bar']]`` for columns\n",
      "    in ``['foo', 'bar']`` order or\n",
      "    ``pd.read_csv(data, usecols=['foo', 'bar'])[['bar', 'foo']]``\n",
      "    for ``['bar', 'foo']`` order.\n",
      "\n",
      "    If callable, the callable function will be evaluated against the column\n",
      "    names, returning names where the callable function evaluates to True. An\n",
      "    example of a valid callable argument would be ``lambda x: x.upper() in\n",
      "    ['AAA', 'BBB', 'DDD']``. Using this parameter results in much faster\n",
      "    parsing time and lower memory usage.\n",
      "squeeze : bool, default False\n",
      "    If the parsed data only contains one column then return a Series.\n",
      "prefix : str, optional\n",
      "    Prefix to add to column numbers when no header, e.g. 'X' for X0, X1, ...\n",
      "mangle_dupe_cols : bool, default True\n",
      "    Duplicate columns will be specified as 'X', 'X.1', ...'X.N', rather than\n",
      "    'X'...'X'. Passing in False will cause data to be overwritten if there\n",
      "    are duplicate names in the columns.\n",
      "dtype : Type name or dict of column -> type, optional\n",
      "    Data type for data or columns. E.g. {'a': np.float64, 'b': np.int32,\n",
      "    'c': 'Int64'}\n",
      "    Use `str` or `object` together with suitable `na_values` settings\n",
      "    to preserve and not interpret dtype.\n",
      "    If converters are specified, they will be applied INSTEAD\n",
      "    of dtype conversion.\n",
      "engine : {'c', 'python'}, optional\n",
      "    Parser engine to use. The C engine is faster while the python engine is\n",
      "    currently more feature-complete.\n",
      "converters : dict, optional\n",
      "    Dict of functions for converting values in certain columns. Keys can either\n",
      "    be integers or column labels.\n",
      "true_values : list, optional\n",
      "    Values to consider as True.\n",
      "false_values : list, optional\n",
      "    Values to consider as False.\n",
      "skipinitialspace : bool, default False\n",
      "    Skip spaces after delimiter.\n",
      "skiprows : list-like, int or callable, optional\n",
      "    Line numbers to skip (0-indexed) or number of lines to skip (int)\n",
      "    at the start of the file.\n",
      "\n",
      "    If callable, the callable function will be evaluated against the row\n",
      "    indices, returning True if the row should be skipped and False otherwise.\n",
      "    An example of a valid callable argument would be ``lambda x: x in [0, 2]``.\n",
      "skipfooter : int, default 0\n",
      "    Number of lines at bottom of file to skip (Unsupported with engine='c').\n",
      "nrows : int, optional\n",
      "    Number of rows of file to read. Useful for reading pieces of large files.\n",
      "na_values : scalar, str, list-like, or dict, optional\n",
      "    Additional strings to recognize as NA/NaN. If dict passed, specific\n",
      "    per-column NA values.  By default the following values are interpreted as\n",
      "    NaN: '', '#N/A', '#N/A N/A', '#NA', '-1.#IND', '-1.#QNAN', '-NaN', '-nan',\n",
      "    '1.#IND', '1.#QNAN', '<NA>', 'N/A', 'NA', 'NULL', 'NaN', 'n/a',\n",
      "    'nan', 'null'.\n",
      "keep_default_na : bool, default True\n",
      "    Whether or not to include the default NaN values when parsing the data.\n",
      "    Depending on whether `na_values` is passed in, the behavior is as follows:\n",
      "\n",
      "    * If `keep_default_na` is True, and `na_values` are specified, `na_values`\n",
      "      is appended to the default NaN values used for parsing.\n",
      "    * If `keep_default_na` is True, and `na_values` are not specified, only\n",
      "      the default NaN values are used for parsing.\n",
      "    * If `keep_default_na` is False, and `na_values` are specified, only\n",
      "      the NaN values specified `na_values` are used for parsing.\n",
      "    * If `keep_default_na` is False, and `na_values` are not specified, no\n",
      "      strings will be parsed as NaN.\n",
      "\n",
      "    Note that if `na_filter` is passed in as False, the `keep_default_na` and\n",
      "    `na_values` parameters will be ignored.\n",
      "na_filter : bool, default True\n",
      "    Detect missing value markers (empty strings and the value of na_values). In\n",
      "    data without any NAs, passing na_filter=False can improve the performance\n",
      "    of reading a large file.\n",
      "verbose : bool, default False\n",
      "    Indicate number of NA values placed in non-numeric columns.\n",
      "skip_blank_lines : bool, default True\n",
      "    If True, skip over blank lines rather than interpreting as NaN values.\n",
      "parse_dates : bool or list of int or names or list of lists or dict, default False\n",
      "    The behavior is as follows:\n",
      "\n",
      "    * boolean. If True -> try parsing the index.\n",
      "    * list of int or names. e.g. If [1, 2, 3] -> try parsing columns 1, 2, 3\n",
      "      each as a separate date column.\n",
      "    * list of lists. e.g.  If [[1, 3]] -> combine columns 1 and 3 and parse as\n",
      "      a single date column.\n",
      "    * dict, e.g. {'foo' : [1, 3]} -> parse columns 1, 3 as date and call\n",
      "      result 'foo'\n",
      "\n",
      "    If a column or index cannot be represented as an array of datetimes,\n",
      "    say because of an unparsable value or a mixture of timezones, the column\n",
      "    or index will be returned unaltered as an object data type. For\n",
      "    non-standard datetime parsing, use ``pd.to_datetime`` after\n",
      "    ``pd.read_csv``. To parse an index or column with a mixture of timezones,\n",
      "    specify ``date_parser`` to be a partially-applied\n",
      "    :func:`pandas.to_datetime` with ``utc=True``. See\n",
      "    :ref:`io.csv.mixed_timezones` for more.\n",
      "\n",
      "    Note: A fast-path exists for iso8601-formatted dates.\n",
      "infer_datetime_format : bool, default False\n",
      "    If True and `parse_dates` is enabled, pandas will attempt to infer the\n",
      "    format of the datetime strings in the columns, and if it can be inferred,\n",
      "    switch to a faster method of parsing them. In some cases this can increase\n",
      "    the parsing speed by 5-10x.\n",
      "keep_date_col : bool, default False\n",
      "    If True and `parse_dates` specifies combining multiple columns then\n",
      "    keep the original columns.\n",
      "date_parser : function, optional\n",
      "    Function to use for converting a sequence of string columns to an array of\n",
      "    datetime instances. The default uses ``dateutil.parser.parser`` to do the\n",
      "    conversion. Pandas will try to call `date_parser` in three different ways,\n",
      "    advancing to the next if an exception occurs: 1) Pass one or more arrays\n",
      "    (as defined by `parse_dates`) as arguments; 2) concatenate (row-wise) the\n",
      "    string values from the columns defined by `parse_dates` into a single array\n",
      "    and pass that; and 3) call `date_parser` once for each row using one or\n",
      "    more strings (corresponding to the columns defined by `parse_dates`) as\n",
      "    arguments.\n",
      "dayfirst : bool, default False\n",
      "    DD/MM format dates, international and European format.\n",
      "cache_dates : bool, default True\n",
      "    If True, use a cache of unique, converted dates to apply the datetime\n",
      "    conversion. May produce significant speed-up when parsing duplicate\n",
      "    date strings, especially ones with timezone offsets.\n",
      "\n",
      "    .. versionadded:: 0.25.0\n",
      "iterator : bool, default False\n",
      "    Return TextFileReader object for iteration or getting chunks with\n",
      "    ``get_chunk()``.\n",
      "\n",
      "    .. versionchanged:: 1.2\n",
      "\n",
      "       ``TextFileReader`` is a context manager.\n",
      "chunksize : int, optional\n",
      "    Return TextFileReader object for iteration.\n",
      "    See the `IO Tools docs\n",
      "    <https://pandas.pydata.org/pandas-docs/stable/io.html#io-chunking>`_\n",
      "    for more information on ``iterator`` and ``chunksize``.\n",
      "\n",
      "    .. versionchanged:: 1.2\n",
      "\n",
      "       ``TextFileReader`` is a context manager.\n",
      "compression : {'infer', 'gzip', 'bz2', 'zip', 'xz', None}, default 'infer'\n",
      "    For on-the-fly decompression of on-disk data. If 'infer' and\n",
      "    `filepath_or_buffer` is path-like, then detect compression from the\n",
      "    following extensions: '.gz', '.bz2', '.zip', or '.xz' (otherwise no\n",
      "    decompression). If using 'zip', the ZIP file must contain only one data\n",
      "    file to be read in. Set to None for no decompression.\n",
      "thousands : str, optional\n",
      "    Thousands separator.\n",
      "decimal : str, default '.'\n",
      "    Character to recognize as decimal point (e.g. use ',' for European data).\n",
      "lineterminator : str (length 1), optional\n",
      "    Character to break file into lines. Only valid with C parser.\n",
      "quotechar : str (length 1), optional\n",
      "    The character used to denote the start and end of a quoted item. Quoted\n",
      "    items can include the delimiter and it will be ignored.\n",
      "quoting : int or csv.QUOTE_* instance, default 0\n",
      "    Control field quoting behavior per ``csv.QUOTE_*`` constants. Use one of\n",
      "    QUOTE_MINIMAL (0), QUOTE_ALL (1), QUOTE_NONNUMERIC (2) or QUOTE_NONE (3).\n",
      "doublequote : bool, default ``True``\n",
      "   When quotechar is specified and quoting is not ``QUOTE_NONE``, indicate\n",
      "   whether or not to interpret two consecutive quotechar elements INSIDE a\n",
      "   field as a single ``quotechar`` element.\n",
      "escapechar : str (length 1), optional\n",
      "    One-character string used to escape other characters.\n",
      "comment : str, optional\n",
      "    Indicates remainder of line should not be parsed. If found at the beginning\n",
      "    of a line, the line will be ignored altogether. This parameter must be a\n",
      "    single character. Like empty lines (as long as ``skip_blank_lines=True``),\n",
      "    fully commented lines are ignored by the parameter `header` but not by\n",
      "    `skiprows`. For example, if ``comment='#'``, parsing\n",
      "    ``#empty\\na,b,c\\n1,2,3`` with ``header=0`` will result in 'a,b,c' being\n",
      "    treated as the header.\n",
      "encoding : str, optional\n",
      "    Encoding to use for UTF when reading/writing (ex. 'utf-8'). `List of Python\n",
      "    standard encodings\n",
      "    <https://docs.python.org/3/library/codecs.html#standard-encodings>`_ .\n",
      "\n",
      "    .. versionchanged:: 1.2\n",
      "\n",
      "       When ``encoding`` is ``None``, ``errors=\"replace\"`` is passed to\n",
      "       ``open()``. Otherwise, ``errors=\"strict\"`` is passed to ``open()``.\n",
      "       This behavior was previously only the case for ``engine=\"python\"``.\n",
      "\n",
      "    .. versionchanged:: 1.3.0\n",
      "\n",
      "       ``encoding_errors`` is a new argument. ``encoding`` has no longer an\n",
      "       influence on how encoding errors are handled.\n",
      "\n",
      "encoding_errors : str, optional, default \"strict\"\n",
      "    How encoding errors are treated. `List of possible values\n",
      "    <https://docs.python.org/3/library/codecs.html#error-handlers>`_ .\n",
      "\n",
      "    .. versionadded:: 1.3.0\n",
      "\n",
      "dialect : str or csv.Dialect, optional\n",
      "    If provided, this parameter will override values (default or not) for the\n",
      "    following parameters: `delimiter`, `doublequote`, `escapechar`,\n",
      "    `skipinitialspace`, `quotechar`, and `quoting`. If it is necessary to\n",
      "    override values, a ParserWarning will be issued. See csv.Dialect\n",
      "    documentation for more details.\n",
      "error_bad_lines : bool, default ``None``\n",
      "    Lines with too many fields (e.g. a csv line with too many commas) will by\n",
      "    default cause an exception to be raised, and no DataFrame will be returned.\n",
      "    If False, then these \"bad lines\" will be dropped from the DataFrame that is\n",
      "    returned.\n",
      "\n",
      "    .. deprecated:: 1.3.0\n",
      "       The ``on_bad_lines`` parameter should be used instead to specify behavior upon\n",
      "       encountering a bad line instead.\n",
      "warn_bad_lines : bool, default ``None``\n",
      "    If error_bad_lines is False, and warn_bad_lines is True, a warning for each\n",
      "    \"bad line\" will be output.\n",
      "\n",
      "    .. deprecated:: 1.3.0\n",
      "       The ``on_bad_lines`` parameter should be used instead to specify behavior upon\n",
      "       encountering a bad line instead.\n",
      "on_bad_lines : {'error', 'warn', 'skip'}, default 'error'\n",
      "    Specifies what to do upon encountering a bad line (a line with too many fields).\n",
      "    Allowed values are :\n",
      "\n",
      "        - 'error', raise an Exception when a bad line is encountered.\n",
      "        - 'warn', raise a warning when a bad line is encountered and skip that line.\n",
      "        - 'skip', skip bad lines without raising or warning when they are encountered.\n",
      "\n",
      "    .. versionadded:: 1.3.0\n",
      "\n",
      "delim_whitespace : bool, default False\n",
      "    Specifies whether or not whitespace (e.g. ``' '`` or ``'\t'``) will be\n",
      "    used as the sep. Equivalent to setting ``sep='\\s+'``. If this option\n",
      "    is set to True, nothing should be passed in for the ``delimiter``\n",
      "    parameter.\n",
      "low_memory : bool, default True\n",
      "    Internally process the file in chunks, resulting in lower memory use\n",
      "    while parsing, but possibly mixed type inference.  To ensure no mixed\n",
      "    types either set False, or specify the type with the `dtype` parameter.\n",
      "    Note that the entire file is read into a single DataFrame regardless,\n",
      "    use the `chunksize` or `iterator` parameter to return the data in chunks.\n",
      "    (Only valid with C parser).\n",
      "memory_map : bool, default False\n",
      "    If a filepath is provided for `filepath_or_buffer`, map the file object\n",
      "    directly onto memory and access the data directly from there. Using this\n",
      "    option can improve performance because there is no longer any I/O overhead.\n",
      "float_precision : str, optional\n",
      "    Specifies which converter the C engine should use for floating-point\n",
      "    values. The options are ``None`` or 'high' for the ordinary converter,\n",
      "    'legacy' for the original lower precision pandas converter, and\n",
      "    'round_trip' for the round-trip converter.\n",
      "\n",
      "    .. versionchanged:: 1.2\n",
      "\n",
      "storage_options : dict, optional\n",
      "    Extra options that make sense for a particular storage connection, e.g.\n",
      "    host, port, username, password, etc. For HTTP(S) URLs the key-value pairs\n",
      "    are forwarded to ``urllib`` as header options. For other URLs (e.g.\n",
      "    starting with \"s3://\", and \"gcs://\") the key-value pairs are forwarded to\n",
      "    ``fsspec``. Please see ``fsspec`` and ``urllib`` for more details.\n",
      "\n",
      "    .. versionadded:: 1.2\n",
      "\n",
      "Returns\n",
      "-------\n",
      "DataFrame or TextParser\n",
      "    A comma-separated values (csv) file is returned as two-dimensional\n",
      "    data structure with labeled axes.\n",
      "\n",
      "See Also\n",
      "--------\n",
      "DataFrame.to_csv : Write DataFrame to a comma-separated values (csv) file.\n",
      "read_csv : Read a comma-separated values (csv) file into DataFrame.\n",
      "read_fwf : Read a table of fixed-width formatted lines into DataFrame.\n",
      "\n",
      "Examples\n",
      "--------\n",
      ">>> pd.read_csv('data.csv')  # doctest: +SKIP\n",
      "\n"
     ]
    }
   ],
   "source": [
    "## How to print the document of the function.\n",
    "print(pd.read_csv.__doc__)"
   ]
  },
  {
   "cell_type": "code",
   "execution_count": 30,
   "id": "ac76b947",
   "metadata": {},
   "outputs": [
    {
     "name": "stdout",
     "output_type": "stream",
     "text": [
      "This will return us plots depending upon whatever chart we want\n",
      "    \n",
      "    Parameters\n",
      "    -------\n",
      "    \n",
      "    data:dataframe \n",
      "    \n",
      "    feature:column_name that we have to consider for analysis\n",
      "    \n",
      "    col1:1st column name that u want to assign to dataframe\n",
      "    \n",
      "    col2:2nd column name that u want to assign to dataframe\n",
      "    \n",
      "    @chart:if value of chart is 1 ,it represents bar chart\n",
      "    @chart:if value of chart is 2 ,it represents pie chart\n",
      "    \n",
      "    \n"
     ]
    }
   ],
   "source": [
    "print(perform_analysis.__doc__)"
   ]
  },
  {
   "cell_type": "code",
   "execution_count": 35,
   "id": "06cd6b1e",
   "metadata": {},
   "outputs": [
    {
     "name": "stdout",
     "output_type": "stream",
     "text": [
      "                               industries  no of jobs\n",
      "0         IT-Software / Software Services        9216\n",
      "1         Education / Teaching / Training        1322\n",
      "2                BPO / Call Centre / ITES        1254\n",
      "3  Banking / Financial Services / Broking        1238\n",
      "4                  Recruitment / Staffing        1129\n"
     ]
    },
    {
     "data": {
      "image/png": "[encoded data removed]",
      "text/plain": [
       "<Figure size 432x288 with 1 Axes>"
      ]
     },
     "metadata": {},
     "output_type": "display_data"
    }
   ],
   "source": [
    "perform_analysis(data,'industry','industries','no of jobs',2)"
   ]
  },
  {
   "cell_type": "code",
   "execution_count": 36,
   "id": "36b8cfc8",
   "metadata": {},
   "outputs": [
    {
     "name": "stdout",
     "output_type": "stream",
     "text": [
      "                         jobtitle  no of jobs\n",
      "0  Business Development Executive          93\n",
      "1    Business Development Manager          92\n",
      "2               Software Engineer          81\n",
      "3                 Project Manager          67\n",
      "4               Android Developer          65\n"
     ]
    },
    {
     "data": {
      "image/png": "[encoded data removed]",
      "text/plain": [
       "<Figure size 432x288 with 1 Axes>"
      ]
     },
     "metadata": {},
     "output_type": "display_data"
    }
   ],
   "source": [
    "perform_analysis(data,'jobtitle','jobtitle','no of jobs',2)"
   ]
  },
  {
   "cell_type": "code",
   "execution_count": 37,
   "id": "14b8fe9b",
   "metadata": {},
   "outputs": [
    {
     "name": "stdout",
     "output_type": "stream",
     "text": [
      "                                  skills  no of jobs\n",
      "0  IT Software - Application Programming        5989\n",
      "1                                  Sales        2893\n",
      "2                                   ITES        1640\n",
      "3                               Teaching        1091\n",
      "4                                     HR         928\n"
     ]
    },
    {
     "data": {
      "image/png": "[encoded data removed]",
      "text/plain": [
       "<Figure size 432x288 with 1 Axes>"
      ]
     },
     "metadata": {
      "needs_background": "light"
     },
     "output_type": "display_data"
    }
   ],
   "source": [
    "perform_analysis(data,'skills','skills','no of jobs')"
   ]
  },
  {
   "cell_type": "code",
   "execution_count": 39,
   "id": "d78fac5c",
   "metadata": {},
   "outputs": [
    {
     "name": "stdout",
     "output_type": "stream",
     "text": [
      "        city  job count\n",
      "0  Bangalore       5228\n",
      "1     Mumbai       2887\n",
      "2      Delhi       2741\n",
      "3  Hyderabad       2182\n",
      "4    Chennai       1204\n"
     ]
    },
    {
     "data": {
      "image/png": "[encoded data removed]",
      "text/plain": [
       "<Figure size 432x288 with 1 Axes>"
      ]
     },
     "metadata": {},
     "output_type": "display_data"
    }
   ],
   "source": [
    "perform_analysis(data,'joblocation_address','city','job count',2)"
   ]
  },
  {
   "cell_type": "code",
   "execution_count": null,
   "id": "bd720a9f",
   "metadata": {},
   "outputs": [],
   "source": []
  },
  {
   "cell_type": "code",
   "execution_count": null,
   "id": "ee77f18c",
   "metadata": {},
   "outputs": [],
   "source": []
  }
 ],
 "metadata": {
  "kernelspec": {
   "display_name": "Python 3 (ipykernel)",
   "language": "python",
   "name": "python3"
  },
  "language_info": {
   "codemirror_mode": {
    "name": "ipython",
    "version": 3
   },
   "file_extension": ".py",
   "mimetype": "text/x-python",
   "name": "python",
   "nbconvert_exporter": "python",
   "pygments_lexer": "ipython3",
   "version": "3.9.7"
  }
 },
 "nbformat": 4,
 "nbformat_minor": 5
}
